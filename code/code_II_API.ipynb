{
 "cells": [
  {
   "cell_type": "code",
   "execution_count": 1,
   "metadata": {},
   "outputs": [
    {
     "name": "stdout",
     "output_type": "stream",
     "text": [
      "共 60 種蔬菜，準備下載...\n"
     ]
    }
   ],
   "source": [
    "# 套件與初始化\n",
    "import pandas as pd\n",
    "import requests\n",
    "import urllib.parse\n",
    "import os\n",
    "import warnings\n",
    "warnings.filterwarnings('ignore')\n",
    "\n",
    "UNIT_ID = 113\n",
    "YEAR_CUTOFF = 2024\n",
    "VEGETABLES = [\"菠菜\", \"空心菜\", \"高麗菜\", \"莧菜\", \"茼蒿\", \"山蘇\", \"芥藍\", \"美生菜\", \"九層塔\", \"白蘿蔔\", \"地瓜\", \"馬鈴薯\", \"薑\", \"洋蔥\", \"蒜頭\", \"茄子\", \"青花菜\", \"絲瓜\", \"南瓜\", \"甜椒\", \"辣椒\", \"豇豆\", \"豌豆\", \"櫛瓜\", \"甜豌豆\", \"蔥\", \"韭菜\", \"筊白筍\", \"綠竹筍\", \"玉米筍\", \"小白菜\", \"青江菜\", \"大白菜\", \"油菜\", \"大陸妹\", \"龍鬚菜\", \"芹菜\", \"紅鳳菜\", \"紅蘿蔔\", \"芋頭\", \"山藥\", \"蓮藕\", \"地瓜葉\", \"牛番茄\", \"花椰菜\", \"苦瓜\", \"冬瓜\", \"大黃瓜\", \"小黃瓜\", \"青椒\", \"四季豆\", \"秋葵\", \"甜椒\", \"娃娃菜\", \"蒜苗\", \"蘆筍\", \"紅蔥頭\", \"玉米\", \"香菜\", \"蘿蔓\"]\n",
    "\n",
    "os.makedirs('蔬菜資料', exist_ok=True)\n",
    "print(f\"共 {len(VEGETABLES)} 種蔬菜，準備下載...\")"
   ]
  },
  {
   "cell_type": "code",
   "execution_count": 2,
   "metadata": {},
   "outputs": [
    {
     "name": "stdout",
     "output_type": "stream",
     "text": [
      "⚠️ 無資料: 菠菜\n",
      "⚠️ 無資料: 空心菜\n",
      "⚠️ 無資料: 高麗菜\n",
      "⚠️ 無資料: 莧菜\n",
      "⚠️ 無資料: 茼蒿\n",
      "⚠️ 無資料: 山蘇\n",
      "⚠️ 無資料: 芥藍\n",
      "⚠️ 無資料: 美生菜\n",
      "⚠️ 無資料: 九層塔\n",
      "⚠️ 無資料: 白蘿蔔\n",
      "⚠️ 無資料: 地瓜\n",
      "✅ 已儲存: 蔬菜資料/馬鈴薯.csv (264 筆)\n",
      "✅ 已儲存: 蔬菜資料/薑.csv (264 筆)\n",
      "✅ 已儲存: 蔬菜資料/洋蔥.csv (262 筆)\n",
      "✅ 已儲存: 蔬菜資料/蒜頭.csv (264 筆)\n",
      "✅ 已儲存: 蔬菜資料/茄子.csv (264 筆)\n",
      "⚠️ 無資料: 青花菜\n",
      "⚠️ 無資料: 絲瓜\n",
      "⚠️ 無資料: 南瓜\n",
      "⚠️ 無資料: 甜椒\n",
      "⚠️ 無資料: 辣椒\n",
      "⚠️ 無資料: 豇豆\n",
      "✅ 已儲存: 蔬菜資料/豌豆.csv (264 筆)\n",
      "⚠️ 無資料: 櫛瓜\n",
      "⚠️ 無資料: 甜豌豆\n",
      "✅ 已儲存: 蔬菜資料/蔥.csv (790 筆)\n",
      "✅ 已儲存: 蔬菜資料/韭菜.csv (262 筆)\n",
      "✅ 已儲存: 蔬菜資料/筊白筍.csv (44 筆)\n",
      "⚠️ 無資料: 綠竹筍\n",
      "⚠️ 無資料: 玉米筍\n",
      "⚠️ 無資料: 小白菜\n",
      "⚠️ 無資料: 青江菜\n",
      "⚠️ 無資料: 大白菜\n",
      "⚠️ 無資料: 油菜\n",
      "⚠️ 無資料: 大陸妹\n",
      "⚠️ 無資料: 龍鬚菜\n",
      "✅ 已儲存: 蔬菜資料/芹菜.csv (264 筆)\n",
      "⚠️ 無資料: 紅鳳菜\n",
      "⚠️ 無資料: 紅蘿蔔\n",
      "⚠️ 無資料: 芋頭\n",
      "⚠️ 無資料: 山藥\n",
      "⚠️ 無資料: 蓮藕\n",
      "⚠️ 無資料: 地瓜葉\n",
      "⚠️ 無資料: 牛番茄\n",
      "✅ 已儲存: 蔬菜資料/花椰菜.csv (264 筆)\n",
      "✅ 已儲存: 蔬菜資料/苦瓜.csv (264 筆)\n",
      "✅ 已儲存: 蔬菜資料/冬瓜.csv (262 筆)\n",
      "⚠️ 無資料: 大黃瓜\n",
      "⚠️ 無資料: 小黃瓜\n",
      "⚠️ 無資料: 青椒\n",
      "⚠️ 無資料: 四季豆\n",
      "⚠️ 無資料: 秋葵\n",
      "⚠️ 無資料: 甜椒\n",
      "⚠️ 無資料: 娃娃菜\n",
      "⚠️ 無資料: 蒜苗\n",
      "✅ 已儲存: 蔬菜資料/蘆筍.csv (264 筆)\n",
      "⚠️ 無資料: 紅蔥頭\n",
      "⚠️ 無資料: 玉米\n",
      "⚠️ 無資料: 香菜\n",
      "⚠️ 無資料: 蘿蔓\n"
     ]
    }
   ],
   "source": [
    "import urllib3\n",
    "import requests\n",
    "import pandas as pd\n",
    "import urllib.parse\n",
    "\n",
    "# 停用 SSL 警告\n",
    "urllib3.disable_warnings(urllib3.exceptions.InsecureRequestWarning)\n",
    "\n",
    "# 抓取並儲存每一種蔬菜的資料\n",
    "for name in VEGETABLES:\n",
    "    try:\n",
    "        filter_str = f\"年度 lt {YEAR_CUTOFF} and 蔬菜類別 like {name}\"\n",
    "        encoded = urllib.parse.quote(filter_str, safe='')\n",
    "        url = f\"https://data.moa.gov.tw/Service/OpenData/DataFileService.aspx?UnitId={UNIT_ID}&$top=1000&$skip=0&$filter={encoded}\"\n",
    "        \n",
    "        # 加入 verify=False 停用 SSL 驗證\n",
    "        r = requests.get(url, timeout=30, verify=False)\n",
    "        data = r.json()\n",
    "        \n",
    "        if data:\n",
    "            df = pd.DataFrame(data)\n",
    "            fname = f\"蔬菜資料/{name}.csv\"\n",
    "            df.to_csv(fname, index=False, encoding='utf-8-sig')\n",
    "            print(f\"✅ 已儲存: {fname} ({len(df)} 筆)\")\n",
    "        else:\n",
    "            print(f\"⚠️ 無資料: {name}\")\n",
    "    except Exception as e:\n",
    "        print(f\"❌ 發生錯誤：{name} → {e}\")\n",
    "\n"
   ]
  }
 ],
 "metadata": {
  "kernelspec": {
   "display_name": "Python 3",
   "language": "python",
   "name": "python3"
  },
  "language_info": {
   "codemirror_mode": {
    "name": "ipython",
    "version": 3
   },
   "file_extension": ".py",
   "mimetype": "text/x-python",
   "name": "python",
   "nbconvert_exporter": "python",
   "pygments_lexer": "ipython3",
   "version": "3.13.9"
  }
 },
 "nbformat": 4,
 "nbformat_minor": 2
}
